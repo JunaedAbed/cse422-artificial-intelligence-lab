{
  "nbformat": 4,
  "nbformat_minor": 0,
  "metadata": {
    "colab": {
      "name": "Copy of PandasFinalVersion",
      "provenance": [],
      "collapsed_sections": [],
      "include_colab_link": true
    },
    "kernelspec": {
      "name": "python3",
      "display_name": "Python 3"
    }
  },
  "cells": [
    {
      "cell_type": "markdown",
      "metadata": {
        "id": "view-in-github",
        "colab_type": "text"
      },
      "source": [
        "<a href=\"https://colab.research.google.com/github/JunaedAbed/cse422-artificial-intelligence-lab/blob/master/PandasFinalVersion.ipynb\" target=\"_parent\"><img src=\"https://colab.research.google.com/assets/colab-badge.svg\" alt=\"Open In Colab\"/></a>"
      ]
    },
    {
      "cell_type": "markdown",
      "metadata": {
        "id": "kH4hgf9NCi-d"
      },
      "source": [
        "# CSE422: Introduction to Pandas\n",
        "---"
      ]
    },
    {
      "cell_type": "markdown",
      "metadata": {
        "id": "sNuranQDbcdl"
      },
      "source": [
        "\n",
        "Pandas is an open-source library built on top of numpy providing high-performance, easy-to-use data structures and data analysis tools for the Python programming language."
      ]
    },
    {
      "cell_type": "markdown",
      "metadata": {
        "id": "QDBrb4Yrd9RF"
      },
      "source": [
        "DataFrame is a 2-dimensional labeled data structure with columns of potentially different types. You can think of it like a spreadsheet or SQL table, or a dictionary of Series objects. "
      ]
    },
    {
      "cell_type": "markdown",
      "metadata": {
        "id": "LS81fvfjaNsg"
      },
      "source": [
        "#Series : First main data type in Pandas"
      ]
    },
    {
      "cell_type": "code",
      "metadata": {
        "id": "j3XCunq6ZfkG"
      },
      "source": [
        "\n",
        "import pandas as pd\n",
        "labels =['a','b','c']\n",
        "my_data=[10,20,30]\n",
        "\n",
        "d={'a':10,'b':10,'c':30}"
      ],
      "execution_count": 1,
      "outputs": []
    },
    {
      "cell_type": "code",
      "metadata": {
        "id": "Vshq9n1UbOFj",
        "colab": {
          "base_uri": "https://localhost:8080/"
        },
        "outputId": "deeaeafd-7e37-40b1-86b6-4e78f688d008"
      },
      "source": [
        "pd.Series(d)"
      ],
      "execution_count": 2,
      "outputs": [
        {
          "output_type": "execute_result",
          "data": {
            "text/plain": [
              "a    10\n",
              "b    10\n",
              "c    30\n",
              "dtype: int64"
            ]
          },
          "metadata": {
            "tags": []
          },
          "execution_count": 2
        }
      ]
    },
    {
      "cell_type": "markdown",
      "metadata": {
        "id": "sxrmGPGgcf56"
      },
      "source": [
        "#DataFrame"
      ]
    },
    {
      "cell_type": "code",
      "metadata": {
        "id": "LPwOjiuxck3I",
        "colab": {
          "base_uri": "https://localhost:8080/"
        },
        "outputId": "6993847d-2768-40b7-a529-22367a2acf1d"
      },
      "source": [
        "\n",
        "import numpy as np\n",
        "\n",
        "x=np.random.randint(100,size=(5,4)) \n",
        "\n",
        "import pandas as pd\n",
        "#df =pd.DataFrame(x)\n",
        "df =pd.DataFrame(x,['x','b','c','d','e'],['W','X','Y','Z'])\n",
        "print(df)\n"
      ],
      "execution_count": 3,
      "outputs": [
        {
          "output_type": "stream",
          "text": [
            "    W   X   Y   Z\n",
            "x  94   9  82  13\n",
            "b  52  26  70  45\n",
            "c   4  90  71  27\n",
            "d  42  20  50  78\n",
            "e  26  20  84   6\n"
          ],
          "name": "stdout"
        }
      ]
    },
    {
      "cell_type": "code",
      "metadata": {
        "id": "rXBIrlYAgTHx",
        "colab": {
          "base_uri": "https://localhost:8080/"
        },
        "outputId": "d02d796d-f30f-4acd-9d7e-f8a7bc57e45b"
      },
      "source": [
        "df['X']"
      ],
      "execution_count": 4,
      "outputs": [
        {
          "output_type": "execute_result",
          "data": {
            "text/plain": [
              "x     9\n",
              "b    26\n",
              "c    90\n",
              "d    20\n",
              "e    20\n",
              "Name: X, dtype: int64"
            ]
          },
          "metadata": {
            "tags": []
          },
          "execution_count": 4
        }
      ]
    },
    {
      "cell_type": "code",
      "metadata": {
        "id": "cYO618magyUw",
        "colab": {
          "base_uri": "https://localhost:8080/",
          "height": 204
        },
        "outputId": "aa7aa054-b451-4560-da5f-80121715abf7"
      },
      "source": [
        "#ENTERING ANATHER COLUMN IN A DATAFRAME\n",
        "df['new_col']=[1,2,3,4,5]\n",
        "df"
      ],
      "execution_count": 5,
      "outputs": [
        {
          "output_type": "execute_result",
          "data": {
            "text/html": [
              "<div>\n",
              "<style scoped>\n",
              "    .dataframe tbody tr th:only-of-type {\n",
              "        vertical-align: middle;\n",
              "    }\n",
              "\n",
              "    .dataframe tbody tr th {\n",
              "        vertical-align: top;\n",
              "    }\n",
              "\n",
              "    .dataframe thead th {\n",
              "        text-align: right;\n",
              "    }\n",
              "</style>\n",
              "<table border=\"1\" class=\"dataframe\">\n",
              "  <thead>\n",
              "    <tr style=\"text-align: right;\">\n",
              "      <th></th>\n",
              "      <th>W</th>\n",
              "      <th>X</th>\n",
              "      <th>Y</th>\n",
              "      <th>Z</th>\n",
              "      <th>new_col</th>\n",
              "    </tr>\n",
              "  </thead>\n",
              "  <tbody>\n",
              "    <tr>\n",
              "      <th>x</th>\n",
              "      <td>94</td>\n",
              "      <td>9</td>\n",
              "      <td>82</td>\n",
              "      <td>13</td>\n",
              "      <td>1</td>\n",
              "    </tr>\n",
              "    <tr>\n",
              "      <th>b</th>\n",
              "      <td>52</td>\n",
              "      <td>26</td>\n",
              "      <td>70</td>\n",
              "      <td>45</td>\n",
              "      <td>2</td>\n",
              "    </tr>\n",
              "    <tr>\n",
              "      <th>c</th>\n",
              "      <td>4</td>\n",
              "      <td>90</td>\n",
              "      <td>71</td>\n",
              "      <td>27</td>\n",
              "      <td>3</td>\n",
              "    </tr>\n",
              "    <tr>\n",
              "      <th>d</th>\n",
              "      <td>42</td>\n",
              "      <td>20</td>\n",
              "      <td>50</td>\n",
              "      <td>78</td>\n",
              "      <td>4</td>\n",
              "    </tr>\n",
              "    <tr>\n",
              "      <th>e</th>\n",
              "      <td>26</td>\n",
              "      <td>20</td>\n",
              "      <td>84</td>\n",
              "      <td>6</td>\n",
              "      <td>5</td>\n",
              "    </tr>\n",
              "  </tbody>\n",
              "</table>\n",
              "</div>"
            ],
            "text/plain": [
              "    W   X   Y   Z  new_col\n",
              "x  94   9  82  13        1\n",
              "b  52  26  70  45        2\n",
              "c   4  90  71  27        3\n",
              "d  42  20  50  78        4\n",
              "e  26  20  84   6        5"
            ]
          },
          "metadata": {
            "tags": []
          },
          "execution_count": 5
        }
      ]
    },
    {
      "cell_type": "code",
      "metadata": {
        "id": "RlRX4HntmApc",
        "colab": {
          "base_uri": "https://localhost:8080/"
        },
        "outputId": "85d3b918-b9db-4f66-e2d0-41a24f9f933a"
      },
      "source": [
        "#how delete column in dataframe:\n",
        "df.drop('Y',axis=1,inplace=True)\n",
        "print(df)"
      ],
      "execution_count": 6,
      "outputs": [
        {
          "output_type": "stream",
          "text": [
            "    W   X   Z  new_col\n",
            "x  94   9  13        1\n",
            "b  52  26  45        2\n",
            "c   4  90  27        3\n",
            "d  42  20  78        4\n",
            "e  26  20   6        5\n"
          ],
          "name": "stdout"
        }
      ]
    },
    {
      "cell_type": "code",
      "metadata": {
        "id": "1muaRooTSoJ5",
        "colab": {
          "base_uri": "https://localhost:8080/"
        },
        "outputId": "f5a89442-0327-49b0-9a5e-c4426e7b3632"
      },
      "source": [
        "#how delete column in dataframe:\n",
        "df.drop('c',axis=0,inplace=True)\n",
        "print(df)"
      ],
      "execution_count": 7,
      "outputs": [
        {
          "output_type": "stream",
          "text": [
            "    W   X   Z  new_col\n",
            "x  94   9  13        1\n",
            "b  52  26  45        2\n",
            "d  42  20  78        4\n",
            "e  26  20   6        5\n"
          ],
          "name": "stdout"
        }
      ]
    },
    {
      "cell_type": "markdown",
      "metadata": {
        "id": "P7qlBtc5xw5H"
      },
      "source": [
        "#Importing pandas library and reading a CSV file into a dataframe."
      ]
    },
    {
      "cell_type": "code",
      "metadata": {
        "id": "kjDr1pxEMDrQ"
      },
      "source": [
        ""
      ],
      "execution_count": 7,
      "outputs": []
    },
    {
      "cell_type": "code",
      "metadata": {
        "id": "F_CdiqBnHJiN",
        "colab": {
          "base_uri": "https://localhost:8080/",
          "height": 408
        },
        "outputId": "1336291f-df11-4371-d4d1-fc1f586efe75"
      },
      "source": [
        " df = pd.read_csv('/content/sample_data/sales.csv',index_col='month')\n",
        " df.head()\n",
        " "
      ],
      "execution_count": 8,
      "outputs": [
        {
          "output_type": "error",
          "ename": "FileNotFoundError",
          "evalue": "ignored",
          "traceback": [
            "\u001b[0;31m---------------------------------------------------------------------------\u001b[0m",
            "\u001b[0;31mFileNotFoundError\u001b[0m                         Traceback (most recent call last)",
            "\u001b[0;32m<ipython-input-8-3c6fb8ce4a25>\u001b[0m in \u001b[0;36m<module>\u001b[0;34m()\u001b[0m\n\u001b[0;32m----> 1\u001b[0;31m \u001b[0mdf\u001b[0m \u001b[0;34m=\u001b[0m \u001b[0mpd\u001b[0m\u001b[0;34m.\u001b[0m\u001b[0mread_csv\u001b[0m\u001b[0;34m(\u001b[0m\u001b[0;34m'/content/sample_data/sales.csv'\u001b[0m\u001b[0;34m,\u001b[0m\u001b[0mindex_col\u001b[0m\u001b[0;34m=\u001b[0m\u001b[0;34m'month'\u001b[0m\u001b[0;34m)\u001b[0m\u001b[0;34m\u001b[0m\u001b[0;34m\u001b[0m\u001b[0m\n\u001b[0m\u001b[1;32m      2\u001b[0m \u001b[0mdf\u001b[0m\u001b[0;34m.\u001b[0m\u001b[0mhead\u001b[0m\u001b[0;34m(\u001b[0m\u001b[0;34m)\u001b[0m\u001b[0;34m\u001b[0m\u001b[0;34m\u001b[0m\u001b[0m\n\u001b[1;32m      3\u001b[0m \u001b[0;34m\u001b[0m\u001b[0m\n",
            "\u001b[0;32m/usr/local/lib/python3.7/dist-packages/pandas/io/parsers.py\u001b[0m in \u001b[0;36mread_csv\u001b[0;34m(filepath_or_buffer, sep, delimiter, header, names, index_col, usecols, squeeze, prefix, mangle_dupe_cols, dtype, engine, converters, true_values, false_values, skipinitialspace, skiprows, skipfooter, nrows, na_values, keep_default_na, na_filter, verbose, skip_blank_lines, parse_dates, infer_datetime_format, keep_date_col, date_parser, dayfirst, cache_dates, iterator, chunksize, compression, thousands, decimal, lineterminator, quotechar, quoting, doublequote, escapechar, comment, encoding, dialect, error_bad_lines, warn_bad_lines, delim_whitespace, low_memory, memory_map, float_precision)\u001b[0m\n\u001b[1;32m    686\u001b[0m     )\n\u001b[1;32m    687\u001b[0m \u001b[0;34m\u001b[0m\u001b[0m\n\u001b[0;32m--> 688\u001b[0;31m     \u001b[0;32mreturn\u001b[0m \u001b[0m_read\u001b[0m\u001b[0;34m(\u001b[0m\u001b[0mfilepath_or_buffer\u001b[0m\u001b[0;34m,\u001b[0m \u001b[0mkwds\u001b[0m\u001b[0;34m)\u001b[0m\u001b[0;34m\u001b[0m\u001b[0;34m\u001b[0m\u001b[0m\n\u001b[0m\u001b[1;32m    689\u001b[0m \u001b[0;34m\u001b[0m\u001b[0m\n\u001b[1;32m    690\u001b[0m \u001b[0;34m\u001b[0m\u001b[0m\n",
            "\u001b[0;32m/usr/local/lib/python3.7/dist-packages/pandas/io/parsers.py\u001b[0m in \u001b[0;36m_read\u001b[0;34m(filepath_or_buffer, kwds)\u001b[0m\n\u001b[1;32m    452\u001b[0m \u001b[0;34m\u001b[0m\u001b[0m\n\u001b[1;32m    453\u001b[0m     \u001b[0;31m# Create the parser.\u001b[0m\u001b[0;34m\u001b[0m\u001b[0;34m\u001b[0m\u001b[0;34m\u001b[0m\u001b[0m\n\u001b[0;32m--> 454\u001b[0;31m     \u001b[0mparser\u001b[0m \u001b[0;34m=\u001b[0m \u001b[0mTextFileReader\u001b[0m\u001b[0;34m(\u001b[0m\u001b[0mfp_or_buf\u001b[0m\u001b[0;34m,\u001b[0m \u001b[0;34m**\u001b[0m\u001b[0mkwds\u001b[0m\u001b[0;34m)\u001b[0m\u001b[0;34m\u001b[0m\u001b[0;34m\u001b[0m\u001b[0m\n\u001b[0m\u001b[1;32m    455\u001b[0m \u001b[0;34m\u001b[0m\u001b[0m\n\u001b[1;32m    456\u001b[0m     \u001b[0;32mif\u001b[0m \u001b[0mchunksize\u001b[0m \u001b[0;32mor\u001b[0m \u001b[0miterator\u001b[0m\u001b[0;34m:\u001b[0m\u001b[0;34m\u001b[0m\u001b[0;34m\u001b[0m\u001b[0m\n",
            "\u001b[0;32m/usr/local/lib/python3.7/dist-packages/pandas/io/parsers.py\u001b[0m in \u001b[0;36m__init__\u001b[0;34m(self, f, engine, **kwds)\u001b[0m\n\u001b[1;32m    946\u001b[0m             \u001b[0mself\u001b[0m\u001b[0;34m.\u001b[0m\u001b[0moptions\u001b[0m\u001b[0;34m[\u001b[0m\u001b[0;34m\"has_index_names\"\u001b[0m\u001b[0;34m]\u001b[0m \u001b[0;34m=\u001b[0m \u001b[0mkwds\u001b[0m\u001b[0;34m[\u001b[0m\u001b[0;34m\"has_index_names\"\u001b[0m\u001b[0;34m]\u001b[0m\u001b[0;34m\u001b[0m\u001b[0;34m\u001b[0m\u001b[0m\n\u001b[1;32m    947\u001b[0m \u001b[0;34m\u001b[0m\u001b[0m\n\u001b[0;32m--> 948\u001b[0;31m         \u001b[0mself\u001b[0m\u001b[0;34m.\u001b[0m\u001b[0m_make_engine\u001b[0m\u001b[0;34m(\u001b[0m\u001b[0mself\u001b[0m\u001b[0;34m.\u001b[0m\u001b[0mengine\u001b[0m\u001b[0;34m)\u001b[0m\u001b[0;34m\u001b[0m\u001b[0;34m\u001b[0m\u001b[0m\n\u001b[0m\u001b[1;32m    949\u001b[0m \u001b[0;34m\u001b[0m\u001b[0m\n\u001b[1;32m    950\u001b[0m     \u001b[0;32mdef\u001b[0m \u001b[0mclose\u001b[0m\u001b[0;34m(\u001b[0m\u001b[0mself\u001b[0m\u001b[0;34m)\u001b[0m\u001b[0;34m:\u001b[0m\u001b[0;34m\u001b[0m\u001b[0;34m\u001b[0m\u001b[0m\n",
            "\u001b[0;32m/usr/local/lib/python3.7/dist-packages/pandas/io/parsers.py\u001b[0m in \u001b[0;36m_make_engine\u001b[0;34m(self, engine)\u001b[0m\n\u001b[1;32m   1178\u001b[0m     \u001b[0;32mdef\u001b[0m \u001b[0m_make_engine\u001b[0m\u001b[0;34m(\u001b[0m\u001b[0mself\u001b[0m\u001b[0;34m,\u001b[0m \u001b[0mengine\u001b[0m\u001b[0;34m=\u001b[0m\u001b[0;34m\"c\"\u001b[0m\u001b[0;34m)\u001b[0m\u001b[0;34m:\u001b[0m\u001b[0;34m\u001b[0m\u001b[0;34m\u001b[0m\u001b[0m\n\u001b[1;32m   1179\u001b[0m         \u001b[0;32mif\u001b[0m \u001b[0mengine\u001b[0m \u001b[0;34m==\u001b[0m \u001b[0;34m\"c\"\u001b[0m\u001b[0;34m:\u001b[0m\u001b[0;34m\u001b[0m\u001b[0;34m\u001b[0m\u001b[0m\n\u001b[0;32m-> 1180\u001b[0;31m             \u001b[0mself\u001b[0m\u001b[0;34m.\u001b[0m\u001b[0m_engine\u001b[0m \u001b[0;34m=\u001b[0m \u001b[0mCParserWrapper\u001b[0m\u001b[0;34m(\u001b[0m\u001b[0mself\u001b[0m\u001b[0;34m.\u001b[0m\u001b[0mf\u001b[0m\u001b[0;34m,\u001b[0m \u001b[0;34m**\u001b[0m\u001b[0mself\u001b[0m\u001b[0;34m.\u001b[0m\u001b[0moptions\u001b[0m\u001b[0;34m)\u001b[0m\u001b[0;34m\u001b[0m\u001b[0;34m\u001b[0m\u001b[0m\n\u001b[0m\u001b[1;32m   1181\u001b[0m         \u001b[0;32melse\u001b[0m\u001b[0;34m:\u001b[0m\u001b[0;34m\u001b[0m\u001b[0;34m\u001b[0m\u001b[0m\n\u001b[1;32m   1182\u001b[0m             \u001b[0;32mif\u001b[0m \u001b[0mengine\u001b[0m \u001b[0;34m==\u001b[0m \u001b[0;34m\"python\"\u001b[0m\u001b[0;34m:\u001b[0m\u001b[0;34m\u001b[0m\u001b[0;34m\u001b[0m\u001b[0m\n",
            "\u001b[0;32m/usr/local/lib/python3.7/dist-packages/pandas/io/parsers.py\u001b[0m in \u001b[0;36m__init__\u001b[0;34m(self, src, **kwds)\u001b[0m\n\u001b[1;32m   2008\u001b[0m         \u001b[0mkwds\u001b[0m\u001b[0;34m[\u001b[0m\u001b[0;34m\"usecols\"\u001b[0m\u001b[0;34m]\u001b[0m \u001b[0;34m=\u001b[0m \u001b[0mself\u001b[0m\u001b[0;34m.\u001b[0m\u001b[0musecols\u001b[0m\u001b[0;34m\u001b[0m\u001b[0;34m\u001b[0m\u001b[0m\n\u001b[1;32m   2009\u001b[0m \u001b[0;34m\u001b[0m\u001b[0m\n\u001b[0;32m-> 2010\u001b[0;31m         \u001b[0mself\u001b[0m\u001b[0;34m.\u001b[0m\u001b[0m_reader\u001b[0m \u001b[0;34m=\u001b[0m \u001b[0mparsers\u001b[0m\u001b[0;34m.\u001b[0m\u001b[0mTextReader\u001b[0m\u001b[0;34m(\u001b[0m\u001b[0msrc\u001b[0m\u001b[0;34m,\u001b[0m \u001b[0;34m**\u001b[0m\u001b[0mkwds\u001b[0m\u001b[0;34m)\u001b[0m\u001b[0;34m\u001b[0m\u001b[0;34m\u001b[0m\u001b[0m\n\u001b[0m\u001b[1;32m   2011\u001b[0m         \u001b[0mself\u001b[0m\u001b[0;34m.\u001b[0m\u001b[0munnamed_cols\u001b[0m \u001b[0;34m=\u001b[0m \u001b[0mself\u001b[0m\u001b[0;34m.\u001b[0m\u001b[0m_reader\u001b[0m\u001b[0;34m.\u001b[0m\u001b[0munnamed_cols\u001b[0m\u001b[0;34m\u001b[0m\u001b[0;34m\u001b[0m\u001b[0m\n\u001b[1;32m   2012\u001b[0m \u001b[0;34m\u001b[0m\u001b[0m\n",
            "\u001b[0;32mpandas/_libs/parsers.pyx\u001b[0m in \u001b[0;36mpandas._libs.parsers.TextReader.__cinit__\u001b[0;34m()\u001b[0m\n",
            "\u001b[0;32mpandas/_libs/parsers.pyx\u001b[0m in \u001b[0;36mpandas._libs.parsers.TextReader._setup_parser_source\u001b[0;34m()\u001b[0m\n",
            "\u001b[0;31mFileNotFoundError\u001b[0m: [Errno 2] No such file or directory: '/content/sample_data/sales.csv'"
          ]
        }
      ]
    },
    {
      "cell_type": "markdown",
      "metadata": {
        "id": "g_Qq3janGrUq"
      },
      "source": [
        "# Indexing DataFrames\n",
        " "
      ]
    },
    {
      "cell_type": "markdown",
      "metadata": {
        "id": "0-ThM390Ra7Q"
      },
      "source": [
        "## Indexing using square brackets"
      ]
    },
    {
      "cell_type": "code",
      "metadata": {
        "id": "HcPxPB5SzcK-"
      },
      "source": [
        "df = pd.read_csv('/content/sample_data/sales.csv',index_col='month')\n",
        "df.head()"
      ],
      "execution_count": null,
      "outputs": []
    },
    {
      "cell_type": "code",
      "metadata": {
        "id": "ga4g4CYBHZLD"
      },
      "source": [
        " df['eggs']['Mar'] # df[column]['rows']\n",
        " type(df)"
      ],
      "execution_count": null,
      "outputs": []
    },
    {
      "cell_type": "code",
      "metadata": {
        "id": "v3YptmvXZqoL"
      },
      "source": [
        "df.eggs['Apr']"
      ],
      "execution_count": null,
      "outputs": []
    },
    {
      "cell_type": "markdown",
      "metadata": {
        "id": "TNVoJRWTRfwp"
      },
      "source": [
        "Using column atribute and row index/label"
      ]
    },
    {
      "cell_type": "code",
      "metadata": {
        "id": "pOWz2tytHh1w"
      },
      "source": [
        "df.salt['Apr']"
      ],
      "execution_count": null,
      "outputs": []
    },
    {
      "cell_type": "markdown",
      "metadata": {
        "id": "KKLcXMH1RrCW"
      },
      "source": [
        "Selecting only some columns"
      ]
    },
    {
      "cell_type": "code",
      "metadata": {
        "id": "8ZnhSgBZRriz"
      },
      "source": [
        "df_new = df[['salt','spam']]\n",
        "df_new"
      ],
      "execution_count": null,
      "outputs": []
    },
    {
      "cell_type": "markdown",
      "metadata": {
        "id": "Qa6pEfkkSkjX"
      },
      "source": [
        "Selecting a column (i.e., Series)"
      ]
    },
    {
      "cell_type": "code",
      "metadata": {
        "id": "Pz2fuIWySfJs"
      },
      "source": [
        " df['eggs'] "
      ],
      "execution_count": null,
      "outputs": []
    },
    {
      "cell_type": "code",
      "metadata": {
        "id": "F8FVK-SgSwGE"
      },
      "source": [
        "#printing type of the column selected\n",
        "type(df['eggs'])"
      ],
      "execution_count": null,
      "outputs": []
    },
    {
      "cell_type": "markdown",
      "metadata": {
        "id": "lenz8lNMTMrv"
      },
      "source": [
        "Slicing and indexing a Series"
      ]
    },
    {
      "cell_type": "code",
      "metadata": {
        "id": "fZC0XNH_S9mW"
      },
      "source": [
        "#selecting part of a series\n",
        "df['eggs'][1:4]"
      ],
      "execution_count": null,
      "outputs": []
    },
    {
      "cell_type": "code",
      "metadata": {
        "id": "62lULwhnTy20"
      },
      "source": [
        "df['eggs'][4] "
      ],
      "execution_count": null,
      "outputs": []
    },
    {
      "cell_type": "markdown",
      "metadata": {
        "id": "fq9v3FEGSdaD"
      },
      "source": [
        "# Slicing DataFrames"
      ]
    },
    {
      "cell_type": "markdown",
      "metadata": {
        "id": "w38JMr6YRjGC"
      },
      "source": [
        "Using the .loc accessor\n",
        "* Access a group of rows and columns by label(s) or a boolean array."
      ]
    },
    {
      "cell_type": "markdown",
      "metadata": {
        "id": "gf-j2_t5cndm"
      },
      "source": [
        "A series is a 1D-array that can store any data type"
      ]
    },
    {
      "cell_type": "markdown",
      "metadata": {
        "id": "jMby2QZ-YaUI"
      },
      "source": [
        "* LOC is not based on index. The stop limit is **not** exclusive\n",
        "* ILOC is based on index. The stop limit is exclusive"
      ]
    },
    {
      "cell_type": "code",
      "metadata": {
        "id": "Fal81FDFntlU"
      },
      "source": [
        "#we can access row by 2 ways:\n",
        "# 1. location based selection .loc('rowname')\n",
        "# 2. numerical based selection  iloc(rowindex)\n",
        "df2.loc[:,'X']"
      ],
      "execution_count": null,
      "outputs": []
    },
    {
      "cell_type": "code",
      "metadata": {
        "id": "spgOgEc-b9w-"
      },
      "source": [
        "df\n"
      ],
      "execution_count": null,
      "outputs": []
    },
    {
      "cell_type": "code",
      "metadata": {
        "id": "XnLBG7fzcBDt"
      },
      "source": [
        "df.loc['Feb':'Mar','eggs':'salt']"
      ],
      "execution_count": null,
      "outputs": []
    },
    {
      "cell_type": "code",
      "metadata": {
        "id": "OM1OHzBYYfKr"
      },
      "source": [
        "df.loc['Feb',:]   #df.loc[rows,column] "
      ],
      "execution_count": null,
      "outputs": []
    },
    {
      "cell_type": "code",
      "metadata": {
        "id": "YbaDDvHxH9mZ"
      },
      "source": [
        " df.loc['Jan': 'Mar', ['eggs','spam']] "
      ],
      "execution_count": null,
      "outputs": []
    },
    {
      "cell_type": "code",
      "metadata": {
        "id": "1Q24UCuPUzHl"
      },
      "source": [
        "df.loc[:, ['eggs','salt']]   # All rows, some columns "
      ],
      "execution_count": null,
      "outputs": []
    },
    {
      "cell_type": "code",
      "metadata": {
        "id": "AX2Zk7yaUzwQ"
      },
      "source": [
        " df.loc['Jan':'Apr',:]  # Some rows, all columns "
      ],
      "execution_count": null,
      "outputs": []
    },
    {
      "cell_type": "code",
      "metadata": {
        "id": "8Z1ioy6TU3rB"
      },
      "source": [
        "df.loc['Mar':'May', 'salt':'spam'] "
      ],
      "execution_count": null,
      "outputs": []
    },
    {
      "cell_type": "markdown",
      "metadata": {
        "id": "dHc_ZH3MRnwe"
      },
      "source": [
        "Using the .iloc accessor\n",
        "* Purely integer-location based indexing for selection by position."
      ]
    },
    {
      "cell_type": "code",
      "metadata": {
        "id": "i_D_fLoqdgU_"
      },
      "source": [
        "df"
      ],
      "execution_count": null,
      "outputs": []
    },
    {
      "cell_type": "code",
      "metadata": {
        "id": "sM2FVGNboXVf"
      },
      "source": [
        "df.iloc[2]  #indexwise\n",
        "df.iloc[2,2]"
      ],
      "execution_count": null,
      "outputs": []
    },
    {
      "cell_type": "code",
      "metadata": {
        "id": "u-X0SnOpIZWy"
      },
      "source": [
        " df.iloc[2:4, 2]"
      ],
      "execution_count": null,
      "outputs": []
    },
    {
      "cell_type": "code",
      "metadata": {
        "id": "ZQfh8T4ZR4Up"
      },
      "source": [
        " df"
      ],
      "execution_count": null,
      "outputs": []
    },
    {
      "cell_type": "code",
      "metadata": {
        "id": "tqJeoApP9BCN"
      },
      "source": [
        "df.iloc[2:5, 1:] # A block from middle of the DataFrame "
      ],
      "execution_count": null,
      "outputs": []
    },
    {
      "cell_type": "markdown",
      "metadata": {
        "id": "wPz7ceVx9cGI"
      },
      "source": [
        "Using lists rather than slices (1)"
      ]
    },
    {
      "cell_type": "code",
      "metadata": {
        "id": "O_pN0DOhU680"
      },
      "source": [
        "df.loc['Jan':'May', ['eggs','salt']]   "
      ],
      "execution_count": null,
      "outputs": []
    },
    {
      "cell_type": "markdown",
      "metadata": {
        "id": "DjDyrqKc9XI5"
      },
      "source": [
        "Using lists rather than slices (2)"
      ]
    },
    {
      "cell_type": "code",
      "metadata": {
        "id": "np7x2qpjU-yx"
      },
      "source": [
        "df.iloc[[0,4,5], 0:2] "
      ],
      "execution_count": null,
      "outputs": []
    },
    {
      "cell_type": "markdown",
      "metadata": {
        "id": "Yj3lxSW1fRPN"
      },
      "source": [
        "Series versus 1-column DataFrame"
      ]
    },
    {
      "cell_type": "code",
      "metadata": {
        "id": "F_F9naGHRsfk"
      },
      "source": [
        " df['eggs']\n",
        " "
      ],
      "execution_count": null,
      "outputs": []
    },
    {
      "cell_type": "code",
      "metadata": {
        "id": "MSlXeykXABxc"
      },
      "source": [
        "type(df['eggs'])"
      ],
      "execution_count": null,
      "outputs": []
    },
    {
      "cell_type": "code",
      "metadata": {
        "id": "tOHNDB2CAEK2"
      },
      "source": [
        "df[['eggs']] "
      ],
      "execution_count": null,
      "outputs": []
    },
    {
      "cell_type": "code",
      "metadata": {
        "id": "OYhpAieyAF6D"
      },
      "source": [
        "type(df[['eggs']]) "
      ],
      "execution_count": null,
      "outputs": []
    },
    {
      "cell_type": "markdown",
      "metadata": {
        "id": "QlDZyg4DAT5W"
      },
      "source": [
        "#Filtering DataFrames"
      ]
    },
    {
      "cell_type": "markdown",
      "metadata": {
        "id": "TlT4TucIAX11"
      },
      "source": [
        "Creating a Boolean Series"
      ]
    },
    {
      "cell_type": "code",
      "metadata": {
        "id": "Xyn4TdeB1iwK"
      },
      "source": [
        "df\n",
        "\n"
      ],
      "execution_count": null,
      "outputs": []
    },
    {
      "cell_type": "code",
      "metadata": {
        "id": "1VHX5DJCAFuT"
      },
      "source": [
        "df['salt'] > 60\n"
      ],
      "execution_count": null,
      "outputs": []
    },
    {
      "cell_type": "markdown",
      "metadata": {
        "id": "9VYC2zUeAg77"
      },
      "source": [
        "Filtering with a Boolean Series"
      ]
    },
    {
      "cell_type": "code",
      "metadata": {
        "id": "Ys0Gt_jMA4PO"
      },
      "source": [
        "df.salt > 60\n",
        "\n"
      ],
      "execution_count": null,
      "outputs": []
    },
    {
      "cell_type": "code",
      "metadata": {
        "id": "EzqCAuM0Am1f"
      },
      "source": [
        "a = df.salt > 60\n"
      ],
      "execution_count": null,
      "outputs": []
    },
    {
      "cell_type": "code",
      "metadata": {
        "id": "Ci6X2GyyAsro"
      },
      "source": [
        "type(a) #this is a series"
      ],
      "execution_count": null,
      "outputs": []
    },
    {
      "cell_type": "code",
      "metadata": {
        "id": "KatUjuZh9S6s"
      },
      "source": [
        "df[a]"
      ],
      "execution_count": null,
      "outputs": []
    },
    {
      "cell_type": "code",
      "metadata": {
        "id": "1hfTsm_6ArUM"
      },
      "source": [
        "df[df.salt>60] )"
      ],
      "execution_count": null,
      "outputs": []
    },
    {
      "cell_type": "markdown",
      "metadata": {
        "id": "rtf4ioXyBGX3"
      },
      "source": [
        "Combining filters"
      ]
    },
    {
      "cell_type": "code",
      "metadata": {
        "id": "NZIb2-FIgiMy"
      },
      "source": [
        "(df.salt >= 50) & (df.eggs < 200)"
      ],
      "execution_count": null,
      "outputs": []
    },
    {
      "cell_type": "code",
      "metadata": {
        "id": "YA-cQw1OBHC8"
      },
      "source": [
        " df[(df.salt >= 50) & (df.eggs < 200)] # Both conditions"
      ],
      "execution_count": null,
      "outputs": []
    },
    {
      "cell_type": "code",
      "metadata": {
        "id": "IGik4CHlgpMH"
      },
      "source": [
        "(df.salt >= 50) | (df.eggs < 200)"
      ],
      "execution_count": null,
      "outputs": []
    },
    {
      "cell_type": "code",
      "metadata": {
        "id": "OhE15OwfBMfF"
      },
      "source": [
        " df[(df.salt >= 50) | (df.eggs < 200)] # Either condition"
      ],
      "execution_count": null,
      "outputs": []
    },
    {
      "cell_type": "markdown",
      "metadata": {
        "id": "-rOpVDMkHu7o"
      },
      "source": [
        "#DataFrame Append"
      ]
    },
    {
      "cell_type": "code",
      "metadata": {
        "id": "yMn11H4oBU71"
      },
      "source": [
        "df2 = df.copy()\n",
        "df2"
      ],
      "execution_count": null,
      "outputs": []
    },
    {
      "cell_type": "code",
      "metadata": {
        "id": "4k1GlJowBRGo"
      },
      "source": [
        " df2['bacon']=[0,0,60,0,90,100]\n",
        " df2"
      ],
      "execution_count": null,
      "outputs": []
    },
    {
      "cell_type": "code",
      "metadata": {
        "id": "n4nAiGjWFOX7"
      },
      "source": [
        "df3=df2.copy()\n",
        "df3\n"
      ],
      "execution_count": null,
      "outputs": []
    },
    {
      "cell_type": "code",
      "metadata": {
        "id": "FeK0n0fZFY2q"
      },
      "source": [
        "other = pd.DataFrame({'eggs': ['K0', 'K1', 'K2'],\n",
        "                      'salt': ['b10', 'b20', 'b50'],\n",
        "                      'spam': ['s1', 's2', 's3'],\n",
        "                      'bacon': ['bc0', 'bc1', 'cb2']},index=[\"July\", \"Aug\", \"Sept\"])\n",
        "other"
      ],
      "execution_count": null,
      "outputs": []
    },
    {
      "cell_type": "code",
      "metadata": {
        "id": "8dnDj1ruGKsT"
      },
      "source": [
        "df2.append(other)"
      ],
      "execution_count": null,
      "outputs": []
    },
    {
      "cell_type": "code",
      "metadata": {
        "id": "4eQ0JWxu5koM"
      },
      "source": [
        "df3"
      ],
      "execution_count": null,
      "outputs": []
    },
    {
      "cell_type": "code",
      "metadata": {
        "id": "I0gHMWziPhid"
      },
      "source": [
        "df3.columns=['X', 'Y', 'Z','T']\n",
        "df3\n"
      ],
      "execution_count": null,
      "outputs": []
    },
    {
      "cell_type": "code",
      "metadata": {
        "id": "luiUVqY37UuR"
      },
      "source": [
        "df3.drop(\"T\",axis=1,inplace=True)\n",
        "df3"
      ],
      "execution_count": null,
      "outputs": []
    },
    {
      "cell_type": "markdown",
      "metadata": {
        "id": "7ozVa82XBT-U"
      },
      "source": [
        "#DataFrames with zeros and NaNs"
      ]
    },
    {
      "cell_type": "markdown",
      "metadata": {
        "id": "Ne0m0d2uBirW"
      },
      "source": [
        "Select columns with all nonzeros"
      ]
    },
    {
      "cell_type": "code",
      "metadata": {
        "id": "IrviDPCT2pjr"
      },
      "source": [
        "df\n"
      ],
      "execution_count": null,
      "outputs": []
    },
    {
      "cell_type": "code",
      "metadata": {
        "id": "tEw0RYNEBRFo"
      },
      "source": [
        "\n",
        "df['bacon']=[0,0,0,0,0,1]\n",
        "df['bacon'].any()"
      ],
      "execution_count": null,
      "outputs": []
    },
    {
      "cell_type": "code",
      "metadata": {
        "id": "6SSpR1A2_P3R"
      },
      "source": [
        "df"
      ],
      "execution_count": null,
      "outputs": []
    },
    {
      "cell_type": "code",
      "metadata": {
        "id": "D2wtIFLfmbz9"
      },
      "source": [
        "\n",
        "df.loc[:, df.all()] "
      ],
      "execution_count": null,
      "outputs": []
    },
    {
      "cell_type": "markdown",
      "metadata": {
        "id": "gOiWnNXwB1lq"
      },
      "source": [
        "Select columns with any NaNs"
      ]
    },
    {
      "cell_type": "code",
      "metadata": {
        "id": "EwuU0egEB2Yh"
      },
      "source": [
        "df.loc[:, df.isnull().any()]"
      ],
      "execution_count": null,
      "outputs": []
    },
    {
      "cell_type": "markdown",
      "metadata": {
        "id": "wgGFW_DpBK0Z"
      },
      "source": [
        "Select columns without NaNs"
      ]
    },
    {
      "cell_type": "code",
      "metadata": {
        "id": "yAuCYe2773RB"
      },
      "source": [
        "df"
      ],
      "execution_count": null,
      "outputs": []
    },
    {
      "cell_type": "code",
      "metadata": {
        "id": "F1fAJjoJCD3a"
      },
      "source": [
        "df.loc[:, df.notnull().any()] "
      ],
      "execution_count": null,
      "outputs": []
    },
    {
      "cell_type": "markdown",
      "metadata": {
        "id": "RFjqiTMSCLnB"
      },
      "source": [
        "Drop rows with any NaNs"
      ]
    },
    {
      "cell_type": "code",
      "metadata": {
        "id": "utqpRlf5BLWH"
      },
      "source": [
        "df.dropna(how='any') "
      ],
      "execution_count": null,
      "outputs": []
    },
    {
      "cell_type": "code",
      "metadata": {
        "id": "evgZs7IlvDlV"
      },
      "source": [
        "from google.colab import drive\n",
        "drive.mount('/content/drive',)"
      ],
      "execution_count": null,
      "outputs": []
    },
    {
      "cell_type": "code",
      "metadata": {
        "id": "5dOYgAp8hSPA"
      },
      "source": [
        "df"
      ],
      "execution_count": null,
      "outputs": []
    },
    {
      "cell_type": "code",
      "metadata": {
        "id": "1VR7XDUFhHFi"
      },
      "source": [
        "df.salt > 55"
      ],
      "execution_count": null,
      "outputs": []
    },
    {
      "cell_type": "markdown",
      "metadata": {
        "id": "U-t4PGPtCQQI"
      },
      "source": [
        "Filtering a column based on another"
      ]
    },
    {
      "cell_type": "code",
      "metadata": {
        "id": "FywSZ0RmRtLX"
      },
      "source": [
        "df.eggs[df.salt > 55]  #returns a series"
      ],
      "execution_count": null,
      "outputs": []
    }
  ]
}