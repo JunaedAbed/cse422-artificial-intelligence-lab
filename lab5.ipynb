{
  "nbformat": 4,
  "nbformat_minor": 0,
  "metadata": {
    "kernelspec": {
      "display_name": "Python 3",
      "language": "python",
      "name": "python3"
    },
    "language_info": {
      "codemirror_mode": {
        "name": "ipython",
        "version": 3
      },
      "file_extension": ".py",
      "mimetype": "text/x-python",
      "name": "python",
      "nbconvert_exporter": "python",
      "pygments_lexer": "ipython3",
      "version": "3.6.7"
    },
    "colab": {
      "name": "lab5.ipynb",
      "provenance": [],
      "collapsed_sections": [],
      "include_colab_link": true
    }
  },
  "cells": [
    {
      "cell_type": "markdown",
      "metadata": {
        "id": "view-in-github",
        "colab_type": "text"
      },
      "source": [
        "<a href=\"https://colab.research.google.com/github/JunaedAbed/cse422-artificial-intelligence-lab/blob/master/lab5.ipynb\" target=\"_parent\"><img src=\"https://colab.research.google.com/assets/colab-badge.svg\" alt=\"Open In Colab\"/></a>"
      ]
    },
    {
      "cell_type": "code",
      "metadata": {
        "id": "gZPvqZUPTfrH"
      },
      "source": [
        "#importing necessary libraries\n",
        "import pandas as pd\n",
        "import numpy as np\n"
      ],
      "execution_count": 16,
      "outputs": []
    },
    {
      "cell_type": "code",
      "metadata": {
        "id": "40I_BWUeTfrS",
        "colab": {
          "base_uri": "https://localhost:8080/",
          "height": 600
        },
        "outputId": "16b9005c-d2ca-4f50-e1a4-c5b45a110d84"
      },
      "source": [
        "mashroom = pd.read_csv('/content/sample_data/mushroom edibility classification dataset.csv')\n",
        "mashroom.head(10)"
      ],
      "execution_count": 17,
      "outputs": [
        {
          "output_type": "execute_result",
          "data": {
            "text/html": [
              "<div>\n",
              "<style scoped>\n",
              "    .dataframe tbody tr th:only-of-type {\n",
              "        vertical-align: middle;\n",
              "    }\n",
              "\n",
              "    .dataframe tbody tr th {\n",
              "        vertical-align: top;\n",
              "    }\n",
              "\n",
              "    .dataframe thead th {\n",
              "        text-align: right;\n",
              "    }\n",
              "</style>\n",
              "<table border=\"1\" class=\"dataframe\">\n",
              "  <thead>\n",
              "    <tr style=\"text-align: right;\">\n",
              "      <th></th>\n",
              "      <th>Unnamed: 0</th>\n",
              "      <th>class</th>\n",
              "      <th>cap-shape</th>\n",
              "      <th>cap-surface</th>\n",
              "      <th>cap-color</th>\n",
              "      <th>bruises</th>\n",
              "      <th>odor</th>\n",
              "      <th>stalk-shape</th>\n",
              "      <th>stalk-root</th>\n",
              "      <th>stalk-surface-above-ring</th>\n",
              "      <th>stalk-surface-below-ring</th>\n",
              "      <th>stalk-color-above-ring</th>\n",
              "      <th>stalk-color-below-ring</th>\n",
              "      <th>veil-type</th>\n",
              "      <th>veil-color</th>\n",
              "      <th>ring-number</th>\n",
              "      <th>ring-type</th>\n",
              "      <th>spore-print-color</th>\n",
              "      <th>population</th>\n",
              "      <th>habitat</th>\n",
              "    </tr>\n",
              "  </thead>\n",
              "  <tbody>\n",
              "    <tr>\n",
              "      <th>0</th>\n",
              "      <td>0</td>\n",
              "      <td>poisonous</td>\n",
              "      <td>5.0</td>\n",
              "      <td>2</td>\n",
              "      <td>4.0</td>\n",
              "      <td>bruises is there</td>\n",
              "      <td>6</td>\n",
              "      <td>0</td>\n",
              "      <td>3</td>\n",
              "      <td>2</td>\n",
              "      <td>2</td>\n",
              "      <td>7</td>\n",
              "      <td>7</td>\n",
              "      <td>0</td>\n",
              "      <td>2</td>\n",
              "      <td>1</td>\n",
              "      <td>4</td>\n",
              "      <td>2</td>\n",
              "      <td>3</td>\n",
              "      <td>5</td>\n",
              "    </tr>\n",
              "    <tr>\n",
              "      <th>1</th>\n",
              "      <td>1</td>\n",
              "      <td>edible</td>\n",
              "      <td>5.0</td>\n",
              "      <td>2</td>\n",
              "      <td>9.0</td>\n",
              "      <td>bruises is there</td>\n",
              "      <td>0</td>\n",
              "      <td>0</td>\n",
              "      <td>2</td>\n",
              "      <td>2</td>\n",
              "      <td>2</td>\n",
              "      <td>7</td>\n",
              "      <td>7</td>\n",
              "      <td>0</td>\n",
              "      <td>2</td>\n",
              "      <td>1</td>\n",
              "      <td>4</td>\n",
              "      <td>3</td>\n",
              "      <td>2</td>\n",
              "      <td>1</td>\n",
              "    </tr>\n",
              "    <tr>\n",
              "      <th>2</th>\n",
              "      <td>2</td>\n",
              "      <td>edible</td>\n",
              "      <td>0.0</td>\n",
              "      <td>2</td>\n",
              "      <td>8.0</td>\n",
              "      <td>bruises is there</td>\n",
              "      <td>3</td>\n",
              "      <td>0</td>\n",
              "      <td>2</td>\n",
              "      <td>2</td>\n",
              "      <td>2</td>\n",
              "      <td>7</td>\n",
              "      <td>7</td>\n",
              "      <td>0</td>\n",
              "      <td>2</td>\n",
              "      <td>1</td>\n",
              "      <td>4</td>\n",
              "      <td>3</td>\n",
              "      <td>2</td>\n",
              "      <td>3</td>\n",
              "    </tr>\n",
              "    <tr>\n",
              "      <th>3</th>\n",
              "      <td>3</td>\n",
              "      <td>poisonous</td>\n",
              "      <td>5.0</td>\n",
              "      <td>3</td>\n",
              "      <td>8.0</td>\n",
              "      <td>bruises is there</td>\n",
              "      <td>6</td>\n",
              "      <td>0</td>\n",
              "      <td>3</td>\n",
              "      <td>2</td>\n",
              "      <td>2</td>\n",
              "      <td>7</td>\n",
              "      <td>7</td>\n",
              "      <td>0</td>\n",
              "      <td>2</td>\n",
              "      <td>1</td>\n",
              "      <td>4</td>\n",
              "      <td>2</td>\n",
              "      <td>3</td>\n",
              "      <td>5</td>\n",
              "    </tr>\n",
              "    <tr>\n",
              "      <th>4</th>\n",
              "      <td>4</td>\n",
              "      <td>edible</td>\n",
              "      <td>5.0</td>\n",
              "      <td>2</td>\n",
              "      <td>3.0</td>\n",
              "      <td>no bruises</td>\n",
              "      <td>5</td>\n",
              "      <td>1</td>\n",
              "      <td>3</td>\n",
              "      <td>2</td>\n",
              "      <td>2</td>\n",
              "      <td>7</td>\n",
              "      <td>7</td>\n",
              "      <td>0</td>\n",
              "      <td>2</td>\n",
              "      <td>1</td>\n",
              "      <td>0</td>\n",
              "      <td>3</td>\n",
              "      <td>0</td>\n",
              "      <td>1</td>\n",
              "    </tr>\n",
              "    <tr>\n",
              "      <th>5</th>\n",
              "      <td>5</td>\n",
              "      <td>edible</td>\n",
              "      <td>5.0</td>\n",
              "      <td>3</td>\n",
              "      <td>9.0</td>\n",
              "      <td>bruises is there</td>\n",
              "      <td>0</td>\n",
              "      <td>0</td>\n",
              "      <td>2</td>\n",
              "      <td>2</td>\n",
              "      <td>2</td>\n",
              "      <td>7</td>\n",
              "      <td>7</td>\n",
              "      <td>0</td>\n",
              "      <td>2</td>\n",
              "      <td>1</td>\n",
              "      <td>4</td>\n",
              "      <td>2</td>\n",
              "      <td>2</td>\n",
              "      <td>1</td>\n",
              "    </tr>\n",
              "    <tr>\n",
              "      <th>6</th>\n",
              "      <td>6</td>\n",
              "      <td>edible</td>\n",
              "      <td>0.0</td>\n",
              "      <td>2</td>\n",
              "      <td>8.0</td>\n",
              "      <td>bruises is there</td>\n",
              "      <td>0</td>\n",
              "      <td>0</td>\n",
              "      <td>2</td>\n",
              "      <td>2</td>\n",
              "      <td>2</td>\n",
              "      <td>7</td>\n",
              "      <td>7</td>\n",
              "      <td>0</td>\n",
              "      <td>2</td>\n",
              "      <td>1</td>\n",
              "      <td>4</td>\n",
              "      <td>2</td>\n",
              "      <td>2</td>\n",
              "      <td>3</td>\n",
              "    </tr>\n",
              "    <tr>\n",
              "      <th>7</th>\n",
              "      <td>7</td>\n",
              "      <td>edible</td>\n",
              "      <td>0.0</td>\n",
              "      <td>3</td>\n",
              "      <td>8.0</td>\n",
              "      <td>bruises is there</td>\n",
              "      <td>3</td>\n",
              "      <td>0</td>\n",
              "      <td>2</td>\n",
              "      <td>2</td>\n",
              "      <td>2</td>\n",
              "      <td>7</td>\n",
              "      <td>7</td>\n",
              "      <td>0</td>\n",
              "      <td>2</td>\n",
              "      <td>1</td>\n",
              "      <td>4</td>\n",
              "      <td>3</td>\n",
              "      <td>3</td>\n",
              "      <td>3</td>\n",
              "    </tr>\n",
              "    <tr>\n",
              "      <th>8</th>\n",
              "      <td>8</td>\n",
              "      <td>poisonous</td>\n",
              "      <td>5.0</td>\n",
              "      <td>3</td>\n",
              "      <td>8.0</td>\n",
              "      <td>bruises is there</td>\n",
              "      <td>6</td>\n",
              "      <td>0</td>\n",
              "      <td>3</td>\n",
              "      <td>2</td>\n",
              "      <td>2</td>\n",
              "      <td>7</td>\n",
              "      <td>7</td>\n",
              "      <td>0</td>\n",
              "      <td>2</td>\n",
              "      <td>1</td>\n",
              "      <td>4</td>\n",
              "      <td>2</td>\n",
              "      <td>4</td>\n",
              "      <td>1</td>\n",
              "    </tr>\n",
              "    <tr>\n",
              "      <th>9</th>\n",
              "      <td>9</td>\n",
              "      <td>edible</td>\n",
              "      <td>0.0</td>\n",
              "      <td>2</td>\n",
              "      <td>9.0</td>\n",
              "      <td>bruises is there</td>\n",
              "      <td>0</td>\n",
              "      <td>0</td>\n",
              "      <td>2</td>\n",
              "      <td>2</td>\n",
              "      <td>2</td>\n",
              "      <td>7</td>\n",
              "      <td>7</td>\n",
              "      <td>0</td>\n",
              "      <td>2</td>\n",
              "      <td>1</td>\n",
              "      <td>4</td>\n",
              "      <td>2</td>\n",
              "      <td>3</td>\n",
              "      <td>3</td>\n",
              "    </tr>\n",
              "  </tbody>\n",
              "</table>\n",
              "</div>"
            ],
            "text/plain": [
              "   Unnamed: 0      class  cap-shape  ...  spore-print-color  population habitat\n",
              "0           0  poisonous        5.0  ...                  2           3       5\n",
              "1           1     edible        5.0  ...                  3           2       1\n",
              "2           2     edible        0.0  ...                  3           2       3\n",
              "3           3  poisonous        5.0  ...                  2           3       5\n",
              "4           4     edible        5.0  ...                  3           0       1\n",
              "5           5     edible        5.0  ...                  2           2       1\n",
              "6           6     edible        0.0  ...                  2           2       3\n",
              "7           7     edible        0.0  ...                  3           3       3\n",
              "8           8  poisonous        5.0  ...                  2           4       1\n",
              "9           9     edible        0.0  ...                  2           3       3\n",
              "\n",
              "[10 rows x 20 columns]"
            ]
          },
          "metadata": {
            "tags": []
          },
          "execution_count": 17
        }
      ]
    },
    {
      "cell_type": "code",
      "metadata": {
        "id": "utvR4slHUUoH",
        "colab": {
          "base_uri": "https://localhost:8080/"
        },
        "outputId": "27b75d2f-ee0e-414e-c806-436d55187233"
      },
      "source": [
        "mashroom.shape"
      ],
      "execution_count": 18,
      "outputs": [
        {
          "output_type": "execute_result",
          "data": {
            "text/plain": [
              "(3124, 20)"
            ]
          },
          "metadata": {
            "tags": []
          },
          "execution_count": 18
        }
      ]
    },
    {
      "cell_type": "code",
      "metadata": {
        "id": "RFHvAKsPaJhH",
        "colab": {
          "base_uri": "https://localhost:8080/"
        },
        "outputId": "20f764ff-227e-4fb3-cf47-19504f849da6"
      },
      "source": [
        "mashroom.isnull().sum()"
      ],
      "execution_count": 19,
      "outputs": [
        {
          "output_type": "execute_result",
          "data": {
            "text/plain": [
              "Unnamed: 0                  0\n",
              "class                       0\n",
              "cap-shape                   8\n",
              "cap-surface                 0\n",
              "cap-color                   8\n",
              "bruises                     0\n",
              "odor                        0\n",
              "stalk-shape                 0\n",
              "stalk-root                  0\n",
              "stalk-surface-above-ring    0\n",
              "stalk-surface-below-ring    0\n",
              "stalk-color-above-ring      0\n",
              "stalk-color-below-ring      0\n",
              "veil-type                   0\n",
              "veil-color                  0\n",
              "ring-number                 0\n",
              "ring-type                   0\n",
              "spore-print-color           0\n",
              "population                  0\n",
              "habitat                     0\n",
              "dtype: int64"
            ]
          },
          "metadata": {
            "tags": []
          },
          "execution_count": 19
        }
      ]
    },
    {
      "cell_type": "code",
      "metadata": {
        "colab": {
          "base_uri": "https://localhost:8080/"
        },
        "id": "uczaLv0LaVOT",
        "outputId": "42e79ec3-64f4-4129-bd27-04d050795915"
      },
      "source": [
        "#4.Handle missing values if needed\n",
        "from sklearn.impute import SimpleImputer\n",
        "\n",
        "i=SimpleImputer(missing_values=np.nan, strategy='mean')\n",
        "i.fit(mashroom[['cap-shape']],mashroom[['cap-color']])\n",
        "mashroom['cap-shape']=i.transform(mashroom[['cap-shape']])\n",
        "mashroom['cap-color']=i.transform(mashroom[['cap-color']])\n",
        "print(mashroom.isnull().sum())"
      ],
      "execution_count": 20,
      "outputs": [
        {
          "output_type": "stream",
          "text": [
            "Unnamed: 0                  0\n",
            "class                       0\n",
            "cap-shape                   0\n",
            "cap-surface                 0\n",
            "cap-color                   0\n",
            "bruises                     0\n",
            "odor                        0\n",
            "stalk-shape                 0\n",
            "stalk-root                  0\n",
            "stalk-surface-above-ring    0\n",
            "stalk-surface-below-ring    0\n",
            "stalk-color-above-ring      0\n",
            "stalk-color-below-ring      0\n",
            "veil-type                   0\n",
            "veil-color                  0\n",
            "ring-number                 0\n",
            "ring-type                   0\n",
            "spore-print-color           0\n",
            "population                  0\n",
            "habitat                     0\n",
            "dtype: int64\n"
          ],
          "name": "stdout"
        }
      ]
    },
    {
      "cell_type": "code",
      "metadata": {
        "colab": {
          "base_uri": "https://localhost:8080/"
        },
        "id": "4erbi1UMbk5B",
        "outputId": "d07bfabf-77ad-45de-b38e-aaa2bdc2e624"
      },
      "source": [
        "#5.Encode categorical features if needed\n",
        "from sklearn.preprocessing import LabelEncoder \n",
        "\n",
        "enc=LabelEncoder()\n",
        "mashroom['bruises']=enc.fit_transform(mashroom['bruises'])\n",
        "print(mashroom['bruises'])\n",
        "mashroom['class']=enc.fit_transform(mashroom['class'])\n",
        "print(mashroom['class'])"
      ],
      "execution_count": 21,
      "outputs": [
        {
          "output_type": "stream",
          "text": [
            "0       0\n",
            "1       0\n",
            "2       0\n",
            "3       0\n",
            "4       1\n",
            "       ..\n",
            "3119    1\n",
            "3120    0\n",
            "3121    0\n",
            "3122    1\n",
            "3123    0\n",
            "Name: bruises, Length: 3124, dtype: int64\n",
            "0       1\n",
            "1       0\n",
            "2       0\n",
            "3       1\n",
            "4       0\n",
            "       ..\n",
            "3119    1\n",
            "3120    0\n",
            "3121    0\n",
            "3122    1\n",
            "3123    0\n",
            "Name: class, Length: 3124, dtype: int64\n"
          ],
          "name": "stdout"
        }
      ]
    },
    {
      "cell_type": "code",
      "metadata": {
        "colab": {
          "base_uri": "https://localhost:8080/"
        },
        "id": "rL4D_ThmdTyH",
        "outputId": "883efaea-c429-49aa-afd6-eb63ab5df6d8"
      },
      "source": [
        "#6.Scale all the values between 0-1 with proper scaling technique\n",
        "from sklearn.model_selection import train_test_split\n",
        "\n",
        "x,y=mashroom.iloc[:,2:13],mashroom.iloc[:,13:]\n",
        "x_train,x_test,y_train,y_test=train_test_split(x,y,random_state=1)\n",
        "print(x_train.shape)\n",
        "print(x_test.shape)"
      ],
      "execution_count": 22,
      "outputs": [
        {
          "output_type": "stream",
          "text": [
            "(2343, 11)\n",
            "(781, 11)\n"
          ],
          "name": "stdout"
        }
      ]
    },
    {
      "cell_type": "code",
      "metadata": {
        "colab": {
          "base_uri": "https://localhost:8080/"
        },
        "id": "Hht7NzraeH3g",
        "outputId": "0e8ed61a-622e-47f3-bf6d-fd2c64b2296d"
      },
      "source": [
        "#7.Split the dataset into features and labels. Use your intuition to determine which column indicates the labels.\n",
        "from sklearn.preprocessing import MinMaxScaler \n",
        "scalar=MinMaxScaler()\n",
        "scalar.fit(x_train)\n",
        "x_train_scaled=scalar.transform(x_train)\n",
        "print(\"per-feature minimum before scaling:\\n {}\".format(x_train.min(axis=0)))\n",
        "print(\"per-feature maximum before scaling:\\n {}\".format(x_train.max(axis=0)))\n",
        "print(\"per-feature minimum after scaling:\\n {}\".format(\n",
        "    x_train_scaled.min(axis=0)))\n",
        "print(\"per-feature maximum after scaling:\\n {}\".format(\n",
        "    x_train_scaled.max(axis=0)))"
      ],
      "execution_count": 23,
      "outputs": [
        {
          "output_type": "stream",
          "text": [
            "per-feature minimum before scaling:\n",
            " cap-shape                   0.0\n",
            "cap-surface                 0.0\n",
            "cap-color                   2.0\n",
            "bruises                     0.0\n",
            "odor                        0.0\n",
            "stalk-shape                 0.0\n",
            "stalk-root                  1.0\n",
            "stalk-surface-above-ring    0.0\n",
            "stalk-surface-below-ring    0.0\n",
            "stalk-color-above-ring      0.0\n",
            "stalk-color-below-ring      0.0\n",
            "dtype: float64\n",
            "per-feature maximum before scaling:\n",
            " cap-shape                   5.0\n",
            "cap-surface                 3.0\n",
            "cap-color                   9.0\n",
            "bruises                     1.0\n",
            "odor                        6.0\n",
            "stalk-shape                 1.0\n",
            "stalk-root                  4.0\n",
            "stalk-surface-above-ring    2.0\n",
            "stalk-surface-below-ring    3.0\n",
            "stalk-color-above-ring      7.0\n",
            "stalk-color-below-ring      7.0\n",
            "dtype: float64\n",
            "per-feature minimum after scaling:\n",
            " [0. 0. 0. 0. 0. 0. 0. 0. 0. 0. 0.]\n",
            "per-feature maximum after scaling:\n",
            " [1. 1. 1. 1. 1. 1. 1. 1. 1. 1. 1.]\n"
          ],
          "name": "stdout"
        }
      ]
    }
  ]
}