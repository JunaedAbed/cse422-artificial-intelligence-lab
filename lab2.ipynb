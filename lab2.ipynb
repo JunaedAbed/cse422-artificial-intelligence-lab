{
  "nbformat": 4,
  "nbformat_minor": 0,
  "metadata": {
    "colab": {
      "name": "lab2.ipynb",
      "provenance": [],
      "collapsed_sections": [],
      "include_colab_link": true
    },
    "kernelspec": {
      "name": "python3",
      "display_name": "Python 3"
    }
  },
  "cells": [
    {
      "cell_type": "markdown",
      "metadata": {
        "id": "view-in-github",
        "colab_type": "text"
      },
      "source": [
        "<a href=\"https://colab.research.google.com/github/JunaedAbed/cse422-artificial-intelligence-lab/blob/master/lab2.ipynb\" target=\"_parent\"><img src=\"https://colab.research.google.com/assets/colab-badge.svg\" alt=\"Open In Colab\"/></a>"
      ]
    },
    {
      "cell_type": "code",
      "metadata": {
        "id": "DVUZn7mX25Zj"
      },
      "source": [
        "import numpy as np"
      ],
      "execution_count": 35,
      "outputs": []
    },
    {
      "cell_type": "code",
      "metadata": {
        "id": "CGWWuBT820Uo"
      },
      "source": [
        "def fitness(population, n):\n",
        "    fitness_value=goal_fit\n",
        "    for i in range(len(population)):\n",
        "        j = 1\n",
        "        while j < len(population)-i:\n",
        "            if (population [i] == population [i+j]+j) or (population [i] == population [i+j]-j):\n",
        "                fitness_value -= 1\n",
        "        j += 1\n",
        "    return fitness_value"
      ],
      "execution_count": 36,
      "outputs": []
    },
    {
      "cell_type": "code",
      "metadata": {
        "id": "ZtmoFQ9ugwN_"
      },
      "source": [
        "def crossover(x, y):\n",
        "    r = Random()\n",
        "    crossover_index = r.randint(0,8)\n",
        "    left = p1.state[0:crossover_index]\n",
        "    right = p2.state[crossover_index:8]\n",
        "    left.extend(right)\n",
        "    return left"
      ],
      "execution_count": 37,
      "outputs": []
    },
    {
      "cell_type": "code",
      "metadata": {
        "id": "zRIG9DXmxzFw"
      },
      "source": [
        "def switch(n,target):\n",
        "    for i in range(n):\n",
        "        j = random.randint(0, len(target)-1)\n",
        "        k = random.randint(0, len(target)-1)\n",
        "        target[j], target[k] = target[k], target[j]\n",
        "    return target\n",
        "    \n",
        "def mutate(child):\n",
        "    return switch(1, child)\n"
      ],
      "execution_count": 38,
      "outputs": []
    },
    {
      "cell_type": "code",
      "metadata": {
        "id": "9X_NvFi8v5Dc"
      },
      "source": [
        "def generatePopulation(population, n):\n",
        "    newPopulation = []\n",
        "    while len(newPopulation) < n:\n",
        "        populationByProbability = [(x.probability(population), x) for x in population]\n",
        "        p1= pickRandomByProbability(populationByProbability)\n",
        "        populationByProbability = [x for x in populationByProbability if x[1] != p1]\n",
        "        p2= pickRandomByProbability(populationByProbability)\n",
        "        newPopulation.append(State((p1, p2)))\n",
        "    return newPopulation\n",
        "    if __name__ == '__main__':\n",
        "        populationSize = 100\n",
        "        generation = 1\n",
        "        population = [State() for x in range(populationSize)]\n",
        "        while not 28 in [x.fitness() for x in population]:\n",
        "            print (\"generation %dtMax fitness: %d\" %(generation, max([x.fitness() for x in population])))\n",
        "            population = generatePopulation(population, populationSize)\n",
        "            generation += 1\n",
        "        for x in population:\n",
        "            if x.fitness() <= 28:\n",
        "                print (x)\n"
      ],
      "execution_count": 39,
      "outputs": []
    },
    {
      "cell_type": "code",
      "metadata": {
        "id": "mCgercZ4_DQ8"
      },
      "source": [
        "def select(population, fit):\n",
        "    selection = None\n",
        "    Current_amount=0\t\n",
        "    fitness_total = []\n",
        "    selection = []\n",
        "    for i in range(len(population)):\n",
        "        current_amount += fitness(population[i], goal_fit)\n",
        "        fitness_total.append(current_amount)\n",
        "    prob = random.uniform(0, fitness_total[-1])\n",
        "    for i in range(len(population)):\n",
        "        if fitness_total[i] > prob:\n",
        "            return population[i] "
      ],
      "execution_count": 40,
      "outputs": []
    },
    {
      "cell_type": "markdown",
      "metadata": {
        "id": "yOPop-7n5WYL"
      },
      "source": [
        "### Genetic Algorithm Function"
      ]
    },
    {
      "cell_type": "code",
      "metadata": {
        "id": "uw2sfb9nW_yo"
      },
      "source": [
        "def GA(population, fitness):\n",
        "\t    nmax = 100000\n",
        "\t    n = nmax\n",
        "\t    goal_fit = compute_goal_fit(len(random.choice(population)))\n",
        "\t    print (\"\\nproblem dimension: \", len(random.choice(population)), \"x\", len(random.choice(population)) )\n",
        "\t    print (\"population size: \", len(population) )\n",
        "\t    print (\"max generations: \", n )\n",
        "\t    print (\"\\nrunning...\") \n",
        "\t    while n > 0: \n",
        "\t        new_population = []\n",
        "\t        for i in range(len(population)):\n",
        "\t            x = select(population, fitness, goal_fit)\n",
        "\t            child = reproduce(x)\n",
        "\t            if random.uniform(0,1) < 1.0:\n",
        "\t                child = mutate(child)\n",
        "\t            if fitness(child, goal_fit) >= goal_fit:\n",
        "\t                print (\"...done. \\n\\nresult \", child,\" found in \", nmax-n, \" generations.\\n\") \n",
        "\t                return child    \n",
        "\t            new_population.append(child)\n",
        "\t        population = new_population \n",
        "\t        n -= 1\n",
        "\t    print (\"\\nno solution found in \", nmax, \" generations, try again.\\n\" )\n",
        "\t    return None\n"
      ],
      "execution_count": 44,
      "outputs": []
    },
    {
      "cell_type": "markdown",
      "metadata": {
        "id": "cHKgDnDKb8mh"
      },
      "source": [
        "Running the Genetic Algorithm function"
      ]
    },
    {
      "cell_type": "code",
      "metadata": {
        "id": "01Pz8Q_Jb7qE"
      },
      "source": [
        "# '''for 8 queen problem, n = 8'''\n",
        "# n = 8\n",
        "\n",
        "# '''start_population denotes how many individuals/chromosomes are there\n",
        "#   in the initial population n = 8'''\n",
        "# start_population = 10 \n",
        "\n",
        "# '''if you want you can set mutation_threshold to a higher value,\n",
        "#    to increase the chances of mutation'''\n",
        "# mutation_threshold = 0.3\n",
        "\n",
        "# '''creating the population with random integers between 0 to 7 inclusive\n",
        "#    for n = 8 queen problem'''\n",
        "# population = np.random.randint(0, n, (start_population, n))\n",
        "\n",
        "# '''calling the GA function'''\n",
        "# GA(population, n, mutation_threshold)\n",
        "\n"
      ],
      "execution_count": 42,
      "outputs": []
    }
  ]
}