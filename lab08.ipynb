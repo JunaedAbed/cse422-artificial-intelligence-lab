{
  "nbformat": 4,
  "nbformat_minor": 0,
  "metadata": {
    "colab": {
      "name": "lab8.ipynb",
      "provenance": [],
      "authorship_tag": "ABX9TyPOsc1JJcRDUbM0fMWUpGu2",
      "include_colab_link": true
    },
    "kernelspec": {
      "name": "python3",
      "display_name": "Python 3"
    },
    "language_info": {
      "name": "python"
    }
  },
  "cells": [
    {
      "cell_type": "markdown",
      "metadata": {
        "id": "view-in-github",
        "colab_type": "text"
      },
      "source": [
        "<a href=\"https://colab.research.google.com/github/JunaedAbed/cse422-artificial-intelligence-lab/blob/master/lab08.ipynb\" target=\"_parent\"><img src=\"https://colab.research.google.com/assets/colab-badge.svg\" alt=\"Open In Colab\"/></a>"
      ]
    },
    {
      "cell_type": "code",
      "metadata": {
        "colab": {
          "base_uri": "https://localhost:8080/"
        },
        "id": "eErzVVjHRTqx",
        "outputId": "c90669e4-e7a7-4b05-d9cd-b32b104a8130"
      },
      "source": [
        "#importing necessary libraries\n",
        "import pandas as pd\n",
        "import numpy as np\n",
        "import sklearn\n",
        "import matplotlib.pyplot as plt\n",
        "import seaborn as sns\n",
        "from sklearn.linear_model import LogisticRegression\n",
        "from sklearn.metrics import classification_report\n",
        "from sklearn.metrics import accuracy_score\n",
        "from sklearn.model_selection import train_test_split\n",
        "from sklearn.tree import DecisionTreeClassifier\n",
        "from sklearn.impute import SimpleImputer\n",
        "from sklearn.preprocessing import LabelEncoder \n",
        "\n",
        "mashroom = pd.read_csv('/content/sample_data/mushroom edibility classification dataset.csv')\n",
        "mashroom.head(10)\n",
        "mashroom.shape\n",
        "mashroom.isnull().sum()\n",
        "\n",
        "\n",
        "i=SimpleImputer(missing_values=np.nan, strategy='mean')\n",
        "i.fit(mashroom[['cap-shape']],mashroom[['cap-color']])\n",
        "mashroom['cap-shape']=i.transform(mashroom[['cap-shape']])\n",
        "mashroom['cap-color']=i.transform(mashroom[['cap-color']])\n",
        "print(mashroom.isnull().sum())\n",
        "\n",
        "\n",
        "enc=LabelEncoder()\n",
        "mashroom['bruises']=enc.fit_transform(mashroom['bruises'])\n",
        "print(mashroom['bruises'])\n",
        "mashroom['class']=enc.fit_transform(mashroom['class'])\n",
        "print(mashroom['class'])"
      ],
      "execution_count": 1,
      "outputs": [
        {
          "output_type": "stream",
          "text": [
            "Unnamed: 0                  0\n",
            "class                       0\n",
            "cap-shape                   0\n",
            "cap-surface                 0\n",
            "cap-color                   0\n",
            "bruises                     0\n",
            "odor                        0\n",
            "stalk-shape                 0\n",
            "stalk-root                  0\n",
            "stalk-surface-above-ring    0\n",
            "stalk-surface-below-ring    0\n",
            "stalk-color-above-ring      0\n",
            "stalk-color-below-ring      0\n",
            "veil-type                   0\n",
            "veil-color                  0\n",
            "ring-number                 0\n",
            "ring-type                   0\n",
            "spore-print-color           0\n",
            "population                  0\n",
            "habitat                     0\n",
            "dtype: int64\n",
            "0       0\n",
            "1       0\n",
            "2       0\n",
            "3       0\n",
            "4       1\n",
            "       ..\n",
            "3119    1\n",
            "3120    0\n",
            "3121    0\n",
            "3122    1\n",
            "3123    0\n",
            "Name: bruises, Length: 3124, dtype: int64\n",
            "0       1\n",
            "1       0\n",
            "2       0\n",
            "3       1\n",
            "4       0\n",
            "       ..\n",
            "3119    1\n",
            "3120    0\n",
            "3121    0\n",
            "3122    1\n",
            "3123    0\n",
            "Name: class, Length: 3124, dtype: int64\n"
          ],
          "name": "stdout"
        }
      ]
    },
    {
      "cell_type": "code",
      "metadata": {
        "id": "Z2X6PwAJR9Gi"
      },
      "source": [
        "x= mashroom[['cap-shape', 'cap-surface', 'cap-color','odor','stalk-shape','stalk-root','stalk-surface-above-ring','stalk-surface-below-ring','stalk-color-above-ring','stalk-color-below-ring','veil-type','veil-color']]\n",
        "\n",
        "y = mashroom['class']"
      ],
      "execution_count": 2,
      "outputs": []
    },
    {
      "cell_type": "code",
      "metadata": {
        "id": "hcNptWb8TCc3"
      },
      "source": [
        ""
      ],
      "execution_count": null,
      "outputs": []
    }
  ]
}